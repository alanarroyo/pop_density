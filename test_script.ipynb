{
 "cells": [
  {
   "cell_type": "markdown",
   "id": "2c731974",
   "metadata": {},
   "source": [
    "**Instructions**\n",
    "\n",
    "Run script by pressing \"Shift+Enter\" in the following cell."
   ]
  },
  {
   "cell_type": "code",
   "execution_count": 5,
   "id": "de914ee9",
   "metadata": {},
   "outputs": [
    {
     "name": "stdout",
     "output_type": "stream",
     "text": [
      "2\n",
      "2\n",
      "4.0\n"
     ]
    }
   ],
   "source": [
    "a = input() \n",
    "b = input() \n",
    "try:   \n",
    "    print(float(a)+float(b))\n",
    "except:\n",
    "    print('Error')"
   ]
  }
 ],
 "metadata": {
  "kernelspec": {
   "display_name": "Python 3",
   "language": "python",
   "name": "python3"
  },
  "language_info": {
   "codemirror_mode": {
    "name": "ipython",
    "version": 3
   },
   "file_extension": ".py",
   "mimetype": "text/x-python",
   "name": "python",
   "nbconvert_exporter": "python",
   "pygments_lexer": "ipython3",
   "version": "3.9.4"
  }
 },
 "nbformat": 4,
 "nbformat_minor": 5
}
